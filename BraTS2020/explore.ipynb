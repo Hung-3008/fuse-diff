{
 "cells": [
  {
   "cell_type": "code",
   "execution_count": 2,
   "metadata": {},
   "outputs": [
    {
     "name": "stdout",
     "output_type": "stream",
     "text": [
      "GPU Available: True\n"
     ]
    }
   ],
   "source": [
    "import torch\n",
    "\n",
    "# Check if GPU is available\n",
    "gpu_available = torch.cuda.is_available()\n",
    "print(f\"GPU Available: {gpu_available}\")"
   ]
  },
  {
   "cell_type": "code",
   "execution_count": 3,
   "metadata": {},
   "outputs": [
    {
     "name": "stdout",
     "output_type": "stream",
     "text": [
      "CUDA Version: 12.1\n"
     ]
    }
   ],
   "source": [
    "import torch\n",
    "\n",
    "# Kiểm tra phiên bản CUDA\n",
    "cuda_version = torch.version.cuda\n",
    "print(f\"CUDA Version: {cuda_version}\")"
   ]
  },
  {
   "cell_type": "code",
   "execution_count": 4,
   "metadata": {},
   "outputs": [
    {
     "name": "stdout",
     "output_type": "stream",
     "text": [
      "DONE!\n"
     ]
    }
   ],
   "source": [
    "# List of libraries\n",
    "libraries = [\n",
    "    \"numpy\",\n",
    "    \"pandas\",\n",
    "    \"blobfile\",\n",
    "    \"nibabel\",\n",
    "    \"opencv-python\",\n",
    "    \"scikit-image\",\n",
    "    \"matplotlib\",\n",
    "    \"batchgenerators\",\n",
    "    \"visdom\",\n",
    "    \"torchsummary\",\n",
    "    \"tensorboard\",\n",
    "    \"medpy\",\n",
    "    \"monai\"\n",
    "]\n",
    "\n",
    "# Write to requirements.txt\n",
    "with open('requirements.txt', 'w') as file:\n",
    "    for library in libraries:\n",
    "        file.write(f\"{library}\\n\")\n",
    "print(\"DONE!\")"
   ]
  }
 ],
 "metadata": {
  "kernelspec": {
   "display_name": "diff",
   "language": "python",
   "name": "python3"
  },
  "language_info": {
   "codemirror_mode": {
    "name": "ipython",
    "version": 3
   },
   "file_extension": ".py",
   "mimetype": "text/x-python",
   "name": "python",
   "nbconvert_exporter": "python",
   "pygments_lexer": "ipython3",
   "version": "3.10.13"
  }
 },
 "nbformat": 4,
 "nbformat_minor": 2
}
